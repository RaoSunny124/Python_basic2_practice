{
 "cells": [
  {
   "cell_type": "code",
   "execution_count": 56,
   "metadata": {},
   "outputs": [
    {
     "name": "stdout",
     "output_type": "stream",
     "text": [
      "Hello world\n"
     ]
    }
   ],
   "source": [
    "print('Hello world')"
   ]
  },
  {
   "cell_type": "code",
   "execution_count": 57,
   "metadata": {},
   "outputs": [
    {
     "name": "stdout",
     "output_type": "stream",
     "text": [
      "My name is Hassan. \n",
      "\tMy age is 19.\n"
     ]
    }
   ],
   "source": [
    "name = f'My name is Hassan.'\n",
    "age = f'\\n\\tMy age is 19.'\n",
    "print(name , age)"
   ]
  },
  {
   "cell_type": "code",
   "execution_count": 58,
   "metadata": {},
   "outputs": [],
   "source": [
    "num = 12"
   ]
  },
  {
   "cell_type": "code",
   "execution_count": null,
   "metadata": {},
   "outputs": [],
   "source": [
    "class Student():\n",
    "    def __int__(self ,name , age , subjects):\n",
    "        self.name = name\n",
    "        self.age = age\n",
    "        self.subjects = subjects\n",
    "        if subjects == science.lower():\n",
    "            print('excellent')\n",
    "        else:\n",
    "            print('Good')    \n",
    "        \n",
    "    def writing(self, thing):\n",
    "        print(f'{self.name} is writing {write}.')\n",
    "\n",
    "    def playing(self , play):\n",
    "        print(f'{self.name} is playing {play}.')    \n",
    "\n",
    "    def running(self , speed):\n",
    "        print(f'{self.name} running speed is {speed}.')           "
   ]
  },
  {
   "cell_type": "code",
   "execution_count": null,
   "metadata": {},
   "outputs": [],
   "source": []
  },
  {
   "cell_type": "code",
   "execution_count": null,
   "metadata": {},
   "outputs": [],
   "source": []
  }
 ],
 "metadata": {
  "kernelspec": {
   "display_name": "Python 3",
   "language": "python",
   "name": "python3"
  },
  "language_info": {
   "codemirror_mode": {
    "name": "ipython",
    "version": 3
   },
   "file_extension": ".py",
   "mimetype": "text/x-python",
   "name": "python",
   "nbconvert_exporter": "python",
   "pygments_lexer": "ipython3",
   "version": "3.12.4"
  }
 },
 "nbformat": 4,
 "nbformat_minor": 2
}
